{
 "cells": [
  {
   "cell_type": "markdown",
   "id": "aae8db5a",
   "metadata": {},
   "source": [
    "# basic\n",
    "\n",
    "> some basic functions"
   ]
  },
  {
   "cell_type": "code",
   "execution_count": null,
   "id": "dce5a6f0",
   "metadata": {},
   "outputs": [],
   "source": [
    "from nbdev_tutorial.core import *"
   ]
  },
  {
   "cell_type": "code",
   "execution_count": null,
   "id": "c581e709",
   "metadata": {},
   "outputs": [
    {
     "ename": "NameError",
     "evalue": "name 'add' is not defined",
     "output_type": "error",
     "traceback": [
      "\u001b[0;31m---------------------------------------------------------------------------\u001b[0m",
      "\u001b[0;31mNameError\u001b[0m                                 Traceback (most recent call last)",
      "Cell \u001b[0;32mIn[5], line 1\u001b[0m\n\u001b[0;32m----> 1\u001b[0m \u001b[43madd\u001b[49m(\u001b[38;5;241m10\u001b[39m,\u001b[38;5;241m5\u001b[39m)\n",
      "\u001b[0;31mNameError\u001b[0m: name 'add' is not defined"
     ]
    }
   ],
   "source": [
    "add(10,5)# I SOULD define add function in  nbdev_tutorial.core"
   ]
  },
  {
   "cell_type": "code",
   "execution_count": null,
   "id": "891e8ae3",
   "metadata": {},
   "outputs": [],
   "source": []
  },
  {
   "cell_type": "code",
   "execution_count": null,
   "id": "631d107c",
   "metadata": {},
   "outputs": [],
   "source": [
    "def sub(x,y):\n",
    "    return x-y"
   ]
  },
  {
   "cell_type": "code",
   "execution_count": null,
   "id": "218f78e0",
   "metadata": {},
   "outputs": [],
   "source": [
    "x=50\n",
    "y=100"
   ]
  },
  {
   "cell_type": "code",
   "execution_count": null,
   "id": "c42e5265",
   "metadata": {},
   "outputs": [],
   "source": []
  }
 ],
 "metadata": {
  "kernelspec": {
   "display_name": "python3",
   "language": "python",
   "name": "python3"
  }
 },
 "nbformat": 4,
 "nbformat_minor": 5
}
